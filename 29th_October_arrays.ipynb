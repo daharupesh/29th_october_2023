{
 "cells": [
  {
   "cell_type": "markdown",
   "metadata": {},
   "source": [
    "1. Given an array, check if it contains any duplicates or not. \n",
    "\n",
    "arr = [1, 2, 4, 2, 5, 9] \n",
    "\n",
    "Output = True\n",
    "\n",
    "\n",
    "\n",
    "2. Given an array and an integer k, rotate the array to the right by k steps. \n",
    "\n",
    "arr = [1, 2, 3, 4, 5, 6, 7] k = 3 \n",
    "\n",
    "Output = [5, 6, 7, 1, 2, 3, 4]\n",
    "\n",
    "\n",
    "\n",
    "\n",
    "3. Reverse the given array in-place, means without using any extra data structure. \n",
    "\n",
    "arr = [2, 4, 5, 7, 9, 12] \n",
    "\n",
    "Output = [12, 9, 7, 5, 4, 2]\n",
    "\n",
    "\n",
    "\n",
    "\n",
    "4. Given an array of integers, find the maximum element in an array\n",
    "\n",
    " arr = [10, 5, 20, 8, 15]\n",
    "\n",
    " Output = 20\n",
    "\n",
    "\n",
    "\n",
    "\n",
    "5. Given a sorted array, remove the duplicate element without using any extra data structure. \n",
    "\n",
    "arr = [1, 1, 2, 2, 2, 3, 3, 4, 4, 4, 5, 5] \n",
    "\n",
    "Output = [1, 2, 3, 4, 5]"
   ]
  },
  {
   "cell_type": "markdown",
   "metadata": {},
   "source": [
    "1. Given an array, check if it contains any duplicates or not. \n",
    "\n",
    "arr = [1, 2, 4, 2, 5, 9] \n",
    "\n",
    "Output = True"
   ]
  },
  {
   "cell_type": "code",
   "execution_count": 18,
   "metadata": {},
   "outputs": [
    {
     "name": "stdout",
     "output_type": "stream",
     "text": [
      "True\n"
     ]
    }
   ],
   "source": [
    "def contains_duplicates(arr):\n",
    "    \"\"\"\n",
    "    Check if the given array contains any duplicates.\n",
    "\n",
    "    Args:\n",
    "    - arr: A list of integers.\n",
    "\n",
    "    Returns:\n",
    "    - True if the array contains duplicates, otherwise False.\n",
    "    \"\"\"\n",
    "    n = len(arr)\n",
    "    # Iterate through each element in the array\n",
    "    for i in range(n):\n",
    "        # Compare the current element with all subsequent elements\n",
    "        for j in range(i + 1, n):\n",
    "            # If a duplicate is found, return True\n",
    "            if arr[i] == arr[j]:\n",
    "                return True\n",
    "    # If no duplicates are found, return False\n",
    "    return False\n",
    "\n",
    "# Test the function\n",
    "arr = [1, 2, 4, 2, 5, 9]\n",
    "output = contains_duplicates(arr)\n",
    "print(output)  # Output: True (since the array contains duplicates)\n"
   ]
  },
  {
   "cell_type": "markdown",
   "metadata": {},
   "source": [
    "2. Given an array and an integer k, rotate the array to the right by k steps. \n",
    "\n",
    "arr = [1, 2, 3, 4, 5, 6, 7] k = 3 \n",
    "\n",
    "Output = [5, 6, 7, 1, 2, 3, 4]\n"
   ]
  },
  {
   "cell_type": "code",
   "execution_count": 19,
   "metadata": {},
   "outputs": [
    {
     "name": "stdout",
     "output_type": "stream",
     "text": [
      "[5, 6, 7, 1, 2, 3, 4]\n"
     ]
    }
   ],
   "source": [
    "def rotate_array(arr, k):\n",
    "    \"\"\"\n",
    "    Rotate the given array to the right by k steps.\n",
    "\n",
    "    Args:\n",
    "    - arr: A list of integers.\n",
    "    - k: An integer representing the number of steps to rotate.\n",
    "\n",
    "    Returns:\n",
    "    - The rotated array.\n",
    "    \"\"\"\n",
    "    n = len(arr)\n",
    "    k = k % n  # Ensure k is within the range of the array\n",
    "    # Rotate the array using slicing\n",
    "    return arr[-k:] + arr[:-k]\n",
    "\n",
    "# Test the function\n",
    "arr = [1, 2, 3, 4, 5, 6, 7]\n",
    "k = 3\n",
    "output = rotate_array(arr, k)\n",
    "print(output)  # Output: [5, 6, 7, 1, 2, 3, 4]\n"
   ]
  },
  {
   "cell_type": "markdown",
   "metadata": {},
   "source": [
    "3. Reverse the given array in-place, means without using any extra data structure. \n",
    "\n",
    "arr = [2, 4, 5, 7, 9, 12] \n",
    "\n",
    "Output = [12, 9, 7, 5, 4, 2]"
   ]
  },
  {
   "cell_type": "code",
   "execution_count": 20,
   "metadata": {},
   "outputs": [
    {
     "name": "stdout",
     "output_type": "stream",
     "text": [
      "[12, 9, 7, 5, 4, 2]\n"
     ]
    }
   ],
   "source": [
    "def reverse_array(arr):\n",
    "    \"\"\"\n",
    "    Reverse the given array in-place.\n",
    "\n",
    "    Args:\n",
    "    - arr: A list of elements.\n",
    "\n",
    "    Returns:\n",
    "    - None (the array is reversed in-place).\n",
    "    \"\"\"\n",
    "    n = len(arr)\n",
    "    # Swap elements from both ends until the middle\n",
    "    for i in range(n // 2):\n",
    "        arr[i], arr[n - 1 - i] = arr[n - 1 - i], arr[i]\n",
    "\n",
    "# Test the function\n",
    "arr = [2, 4, 5, 7, 9, 12]\n",
    "reverse_array(arr)\n",
    "print(arr)  # Output: [12, 9, 7, 5, 4, 2]\n"
   ]
  },
  {
   "cell_type": "markdown",
   "metadata": {},
   "source": [
    "4. Given an array of integers, find the maximum element in an array\n",
    "\n",
    " arr = [10, 5, 20, 8, 15]\n",
    "\n",
    " Output = 20\n"
   ]
  },
  {
   "cell_type": "code",
   "execution_count": 21,
   "metadata": {},
   "outputs": [
    {
     "name": "stdout",
     "output_type": "stream",
     "text": [
      "20\n"
     ]
    }
   ],
   "source": [
    "def find_max(arr):\n",
    "    \"\"\"\n",
    "    Find the maximum element in the given array.\n",
    "\n",
    "    Args:\n",
    "    - arr: A list of integers.\n",
    "\n",
    "    Returns:\n",
    "    - The maximum element in the array.\n",
    "    \"\"\"\n",
    "    max_element = arr[0]  # Initialize max_element with the first element\n",
    "    # Iterate through the array to find the maximum element\n",
    "    for num in arr:\n",
    "        if num > max_element:\n",
    "            max_element = num\n",
    "    return max_element\n",
    "\n",
    "# Test the function\n",
    "arr = [10, 5, 20, 8, 15]\n",
    "output = find_max(arr)\n",
    "print(output)  # Output: 20\n"
   ]
  },
  {
   "cell_type": "markdown",
   "metadata": {},
   "source": [
    "5. Given a sorted array, remove the duplicate element without using any extra data structure. \n",
    "\n",
    "arr = [1, 1, 2, 2, 2, 3, 3, 4, 4, 4, 5, 5] \n",
    "\n",
    "Output = [1, 2, 3, 4, 5]"
   ]
  },
  {
   "cell_type": "code",
   "execution_count": 22,
   "metadata": {},
   "outputs": [],
   "source": [
    "def remove_duplicate(arr):\n",
    "    \"\"\"\n",
    "    Remove duplicate elements from the given sorted array.\n",
    "\n",
    "    Args:\n",
    "    - arr: A sorted list of integers.\n",
    "\n",
    "    Returns:\n",
    "    - A list with duplicate elements removed.\n",
    "    \"\"\"\n",
    "    n = len(arr)\n",
    "    # If the array has 0 or 1 elements, return it as it is\n",
    "    if n == 0 or n == 1:\n",
    "        return arr\n",
    "    \n",
    "    index = 0  # Initialize index to keep track of unique elements\n",
    "    # Iterate through the array and compare adjacent elements\n",
    "    for i in range(n - 1):\n",
    "        # If the current element is different from the next one, keep it\n",
    "        if arr[i] != arr[i + 1]:\n",
    "            arr[index] = arr[i]\n",
    "            index += 1\n",
    "\n",
    "    # Copy the last element to the appropriate position\n",
    "    arr[index] = arr[n - 1]\n",
    "    index += 1\n",
    "\n",
    "    # Return only the unique elements up to the index\n",
    "    return arr[:index]\n",
    "\n",
    "# Test the functio\n"
   ]
  },
  {
   "cell_type": "code",
   "execution_count": null,
   "metadata": {},
   "outputs": [],
   "source": []
  }
 ],
 "metadata": {
  "kernelspec": {
   "display_name": "Python 3",
   "language": "python",
   "name": "python3"
  },
  "language_info": {
   "codemirror_mode": {
    "name": "ipython",
    "version": 3
   },
   "file_extension": ".py",
   "mimetype": "text/x-python",
   "name": "python",
   "nbconvert_exporter": "python",
   "pygments_lexer": "ipython3",
   "version": "3.11.0"
  }
 },
 "nbformat": 4,
 "nbformat_minor": 2
}
